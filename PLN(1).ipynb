{
 "cells": [
  {
   "cell_type": "code",
   "execution_count": 1,
   "metadata": {
    "executionInfo": {
     "elapsed": 790,
     "status": "ok",
     "timestamp": 1738253214613,
     "user": {
      "displayName": "Carlos Manzano Izquierdo",
      "userId": "02967202435940828294"
     },
     "user_tz": -60
    },
    "id": "-0LRfl7oCGHG"
   },
   "outputs": [],
   "source": [
    "# [![Open In Colab](https://colab.research.google.com/assets/colab-badge.svg)](https://colab.research.google.com/github/googlecolab/colabtools/blob/master/notebooks/colab-github-demo.ipynb)\n"
   ]
  },
  {
   "cell_type": "code",
   "execution_count": 4,
   "metadata": {
    "executionInfo": {
     "elapsed": 3,
     "status": "ok",
     "timestamp": 1738253856102,
     "user": {
      "displayName": "Carlos Manzano Izquierdo",
      "userId": "02967202435940828294"
     },
     "user_tz": -60
    },
    "id": "iL-jZXAa_ZCh"
   },
   "outputs": [],
   "source": [
    "GENRES_IMDB = {\n",
    "    28: \"Action\",\n",
    "    12: \"Adventure\",\n",
    "    16: \"Animation\",\n",
    "    35: \"Comedy\",\n",
    "    80: \"Crime\",\n",
    "    99: \"Documentary\",\n",
    "    18: \"Drama\",\n",
    "    10751: \"Family\",\n",
    "    14: \"Fantasy\",\n",
    "    36: \"History\",\n",
    "    27: \"Horror\",\n",
    "    10402: \"Music\",\n",
    "    9648: \"Mystery\",\n",
    "    10749: \"Romance\",\n",
    "    878: \"Sci-Fi\",\n",
    "    10770: \"TV Movie\",\n",
    "    53: \"Thriller\",\n",
    "    10752: \"War\",\n",
    "    37: \"Western\"\n",
    "}\n",
    "\n",
    "\n",
    "GENRES_IMDB_INVERTED = {\n",
    "    \"Action\": 28,\n",
    "    \"Adventure\": 12,\n",
    "    \"Animation\": 16,\n",
    "    \"Comedy\": 35,\n",
    "    \"Crime\": 80,\n",
    "    \"Documentary\": 99,\n",
    "    \"Drama\": 18,\n",
    "    \"Family\": 10751,\n",
    "    \"Fantasy\": 14,\n",
    "    \"History\": 36,\n",
    "    \"Horror\": 27,\n",
    "    \"Music\": 10402,\n",
    "    \"Mystery\": 9648,\n",
    "    \"Romance\": 10749,\n",
    "    \"Sci-Fi\": 878,\n",
    "    \"TV Movie\": 10770,\n",
    "    \"Thriller\": 53,\n",
    "    \"War\": 10752,\n",
    "    \"Western\": 37\n",
    "}\n"
   ]
  },
  {
   "cell_type": "markdown",
   "metadata": {
    "id": "X7xBZRfaCHVG"
   },
   "source": [
    "# Scrapping de información con API"
   ]
  },
  {
   "cell_type": "code",
   "execution_count": 3,
   "metadata": {
    "colab": {
     "base_uri": "https://localhost:8080/"
    },
    "executionInfo": {
     "elapsed": 290485,
     "status": "ok",
     "timestamp": 1738253856102,
     "user": {
      "displayName": "Carlos Manzano Izquierdo",
      "userId": "02967202435940828294"
     },
     "user_tz": -60
    },
    "id": "mcMOzXhE9emx",
    "outputId": "0cbdfcb6-a714-44dd-f2ed-d0b194d998ff"
   },
   "outputs": [
    {
     "name": "stdout",
     "output_type": "stream",
     "text": [
      "✅ Se han guardado 10000 películas en peliculas.json\n"
     ]
    }
   ],
   "source": [
    "import requests\n",
    "import json\n",
    "import time\n",
    "\n",
    "# Configuración de la API\n",
    "API_KEY = \"c436a0598ba40f517d94fa3c9cc217d6\"  # Reemplaza con tu API Key de TMDB\n",
    "BASE_URL = \"https://api.themoviedb.org/3/movie/popular\"\n",
    "NUM_PELICULAS = 10000  # Número total de películas a descargar\n",
    "PELICULAS_POR_PAGINA = 20  # TMDB devuelve 20 películas por página\n",
    "paginas_a_descargar = (NUM_PELICULAS // PELICULAS_POR_PAGINA) + 1\n",
    "\n",
    "def obtener_peliculas(n=NUM_PELICULAS):\n",
    "    peliculas = []\n",
    "    for pagina in range(1, paginas_a_descargar + 1):\n",
    "        url = f\"{BASE_URL}?api_key={API_KEY}&language=en-EN&page={pagina}\"\n",
    "        respuesta = requests.get(url)\n",
    "        if respuesta.status_code == 200:\n",
    "            datos = respuesta.json()\n",
    "            peliculas.extend(datos[\"results\"])\n",
    "        else:\n",
    "            print(f\"⚠ Error en la petición: {respuesta.status_code}\")\n",
    "            break\n",
    "        # Pausa para no exceder los límites de la API (40 peticiones/10s)\n",
    "        time.sleep(0.5)\n",
    "        # Detener si alcanzamos el límite deseado\n",
    "        if len(peliculas) >= n:\n",
    "            break\n",
    "\n",
    "    return peliculas[:n]\n",
    "\n",
    "# Obtener las películas más populares y guardarlas en JSON\n",
    "peliculas = obtener_peliculas(NUM_PELICULAS)\n",
    "\n",
    "# Guardar en un archivo JSON\n",
    "with open(\"peliculas.json\", \"w\", encoding=\"utf-8\") as f:\n",
    "    json.dump(peliculas, f, indent=4, ensure_ascii=False)\n",
    "\n",
    "print(f\"✅ Se han guardado {len(peliculas)} películas en peliculas.json\")"
   ]
  },
  {
   "cell_type": "markdown",
   "metadata": {
    "id": "i32i2yyPCVau"
   },
   "source": [
    "# Limpieza DataSet"
   ]
  },
  {
   "cell_type": "code",
   "execution_count": 1,
   "metadata": {},
   "outputs": [
    {
     "ename": "NameError",
     "evalue": "name 'json' is not defined",
     "output_type": "error",
     "traceback": [
      "\u001b[0;31m---------------------------------------------------------------------------\u001b[0m",
      "\u001b[0;31mNameError\u001b[0m                                 Traceback (most recent call last)",
      "Cell \u001b[0;32mIn[1], line 5\u001b[0m\n\u001b[1;32m      3\u001b[0m \u001b[38;5;66;03m# Leer el archivo JSON\u001b[39;00m\n\u001b[1;32m      4\u001b[0m \u001b[38;5;28;01mwith\u001b[39;00m \u001b[38;5;28mopen\u001b[39m(\u001b[38;5;124m\"\u001b[39m\u001b[38;5;124mpeliculas.json\u001b[39m\u001b[38;5;124m\"\u001b[39m, \u001b[38;5;124m\"\u001b[39m\u001b[38;5;124mr\u001b[39m\u001b[38;5;124m\"\u001b[39m, encoding\u001b[38;5;241m=\u001b[39m\u001b[38;5;124m\"\u001b[39m\u001b[38;5;124mutf-8\u001b[39m\u001b[38;5;124m\"\u001b[39m) \u001b[38;5;28;01mas\u001b[39;00m f:\n\u001b[0;32m----> 5\u001b[0m       peliculas \u001b[38;5;241m=\u001b[39m \u001b[43mjson\u001b[49m\u001b[38;5;241m.\u001b[39mload(f)\n\u001b[1;32m      7\u001b[0m \u001b[38;5;66;03m# Crear un DataFrame con las columnas seleccionadas\u001b[39;00m\n\u001b[1;32m      8\u001b[0m df_peliculas \u001b[38;5;241m=\u001b[39m pd\u001b[38;5;241m.\u001b[39mDataFrame(peliculas, columns\u001b[38;5;241m=\u001b[39m[\u001b[38;5;124m\"\u001b[39m\u001b[38;5;124moriginal_language\u001b[39m\u001b[38;5;124m\"\u001b[39m, \u001b[38;5;124m\"\u001b[39m\u001b[38;5;124mtitle\u001b[39m\u001b[38;5;124m\"\u001b[39m, \u001b[38;5;124m\"\u001b[39m\u001b[38;5;124mrelease_date\u001b[39m\u001b[38;5;124m\"\u001b[39m, \u001b[38;5;124m\"\u001b[39m\u001b[38;5;124moverview\u001b[39m\u001b[38;5;124m\"\u001b[39m, \u001b[38;5;124m\"\u001b[39m\u001b[38;5;124mgenre_ids\u001b[39m\u001b[38;5;124m\"\u001b[39m])\n",
      "\u001b[0;31mNameError\u001b[0m: name 'json' is not defined"
     ]
    }
   ],
   "source": [
    "import pandas as pd\n",
    "\n",
    "# Leer el archivo JSON\n",
    "with open(\"peliculas.json\", \"r\", encoding=\"utf-8\") as f:\n",
    "      peliculas = json.load(f)\n",
    "\n",
    "# Crear un DataFrame con las columnas seleccionadas\n",
    "df_peliculas = pd.DataFrame(peliculas, columns=[\"original_language\", \"title\", \"release_date\", \"overview\", \"genre_ids\"])\n",
    "\n",
    "print(df_peliculas.head())\n"
   ]
  }
 ],
 "metadata": {
  "accelerator": "TPU",
  "colab": {
   "gpuType": "V28",
   "provenance": []
  },
  "kernelspec": {
   "display_name": "Python 3",
   "name": "python3"
  },
  "language_info": {
   "codemirror_mode": {
    "name": "ipython",
    "version": 3
   },
   "file_extension": ".py",
   "mimetype": "text/x-python",
   "name": "python",
   "nbconvert_exporter": "python",
   "pygments_lexer": "ipython3",
   "version": "3.10.16"
  }
 },
 "nbformat": 4,
 "nbformat_minor": 0
}
